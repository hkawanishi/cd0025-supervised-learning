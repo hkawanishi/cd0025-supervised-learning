{
 "cells": [
  {
   "cell_type": "markdown",
   "metadata": {},
   "source": [
    "# Data Scientist Nanodegree\n",
    "## Supervised Learning\n",
    "## Project: Finding Donors for *CharityML*"
   ]
  },
  {
   "cell_type": "markdown",
   "metadata": {},
   "source": [
    "Welcome to the first project of the Data Scientist Nanodegree! In this notebook, some template code has already been provided for you, and it will be your job to implement the additional functionality necessary to successfully complete this project. Sections that begin with **'Implementation'** in the header indicate that the following block of code will require additional functionality which you must provide. Instructions will be provided for each section and the specifics of the implementation are marked in the code block with a `'TODO'` statement. Please be sure to read the instructions carefully!\n",
    "\n",
    "In addition to implementing code, there will be questions that you must answer which relate to the project and your implementation. Each section where you will answer a question is preceded by a **'Question X'** header. Carefully read each question and provide thorough answers in the following text boxes that begin with **'Answer:'**. Your project submission will be evaluated based on your answers to each of the questions and the implementation you provide.  \n",
    "\n",
    ">**Note:** Please specify WHICH VERSION OF PYTHON you are using when submitting this notebook. Code and Markdown cells can be executed using the **Shift + Enter** keyboard shortcut. In addition, Markdown cells can be edited by typically double-clicking the cell to enter edit mode."
   ]
  },
  {
   "cell_type": "markdown",
   "metadata": {},
   "source": [
    "## Getting Started\n",
    "\n",
    "In this project, you will employ several supervised algorithms of your choice to accurately model individuals' income using data collected from the 1994 U.S. Census. You will then choose the best candidate algorithm from preliminary results and further optimize this algorithm to best model the data. Your goal with this implementation is to construct a model that accurately predicts whether an individual makes more than $50,000. This sort of task can arise in a non-profit setting, where organizations survive on donations.  Understanding an individual's income can help a non-profit better understand how large of a donation to request, or whether or not they should reach out to begin with.  While it can be difficult to determine an individual's general income bracket directly from public sources, we can (as we will see) infer this value from other publically available features. \n",
    "\n",
    "The dataset for this project originates from the [UCI Machine Learning Repository](https://archive.ics.uci.edu/ml/datasets/Census+Income). The datset was donated by Ron Kohavi and Barry Becker, after being published in the article _\"Scaling Up the Accuracy of Naive-Bayes Classifiers: A Decision-Tree Hybrid\"_. You can find the article by Ron Kohavi [online](https://www.aaai.org/Papers/KDD/1996/KDD96-033.pdf). The data we investigate here consists of small changes to the original dataset, such as removing the `'fnlwgt'` feature and records with missing or ill-formatted entries."
   ]
  },
  {
   "cell_type": "markdown",
   "metadata": {},
   "source": [
    "----\n",
    "## Exploring the Data\n",
    "Run the code cell below to load necessary Python libraries and load the census data. Note that the last column from this dataset, `'income'`, will be our target label (whether an individual makes more than, or at most, $50,000 annually). All other columns are features about each individual in the census database."
   ]
  },
  {
   "cell_type": "code",
   "execution_count": 1,
   "metadata": {},
   "outputs": [
    {
     "data": {
      "text/html": [
       "<div>\n",
       "<style scoped>\n",
       "    .dataframe tbody tr th:only-of-type {\n",
       "        vertical-align: middle;\n",
       "    }\n",
       "\n",
       "    .dataframe tbody tr th {\n",
       "        vertical-align: top;\n",
       "    }\n",
       "\n",
       "    .dataframe thead th {\n",
       "        text-align: right;\n",
       "    }\n",
       "</style>\n",
       "<table border=\"1\" class=\"dataframe\">\n",
       "  <thead>\n",
       "    <tr style=\"text-align: right;\">\n",
       "      <th></th>\n",
       "      <th>age</th>\n",
       "      <th>workclass</th>\n",
       "      <th>education_level</th>\n",
       "      <th>education-num</th>\n",
       "      <th>marital-status</th>\n",
       "      <th>occupation</th>\n",
       "      <th>relationship</th>\n",
       "      <th>race</th>\n",
       "      <th>sex</th>\n",
       "      <th>capital-gain</th>\n",
       "      <th>capital-loss</th>\n",
       "      <th>hours-per-week</th>\n",
       "      <th>native-country</th>\n",
       "      <th>income</th>\n",
       "    </tr>\n",
       "  </thead>\n",
       "  <tbody>\n",
       "    <tr>\n",
       "      <th>0</th>\n",
       "      <td>39</td>\n",
       "      <td>State-gov</td>\n",
       "      <td>Bachelors</td>\n",
       "      <td>13.0</td>\n",
       "      <td>Never-married</td>\n",
       "      <td>Adm-clerical</td>\n",
       "      <td>Not-in-family</td>\n",
       "      <td>White</td>\n",
       "      <td>Male</td>\n",
       "      <td>2174.0</td>\n",
       "      <td>0.0</td>\n",
       "      <td>40.0</td>\n",
       "      <td>United-States</td>\n",
       "      <td>&lt;=50K</td>\n",
       "    </tr>\n",
       "    <tr>\n",
       "      <th>1</th>\n",
       "      <td>50</td>\n",
       "      <td>Self-emp-not-inc</td>\n",
       "      <td>Bachelors</td>\n",
       "      <td>13.0</td>\n",
       "      <td>Married-civ-spouse</td>\n",
       "      <td>Exec-managerial</td>\n",
       "      <td>Husband</td>\n",
       "      <td>White</td>\n",
       "      <td>Male</td>\n",
       "      <td>0.0</td>\n",
       "      <td>0.0</td>\n",
       "      <td>13.0</td>\n",
       "      <td>United-States</td>\n",
       "      <td>&lt;=50K</td>\n",
       "    </tr>\n",
       "    <tr>\n",
       "      <th>2</th>\n",
       "      <td>38</td>\n",
       "      <td>Private</td>\n",
       "      <td>HS-grad</td>\n",
       "      <td>9.0</td>\n",
       "      <td>Divorced</td>\n",
       "      <td>Handlers-cleaners</td>\n",
       "      <td>Not-in-family</td>\n",
       "      <td>White</td>\n",
       "      <td>Male</td>\n",
       "      <td>0.0</td>\n",
       "      <td>0.0</td>\n",
       "      <td>40.0</td>\n",
       "      <td>United-States</td>\n",
       "      <td>&lt;=50K</td>\n",
       "    </tr>\n",
       "    <tr>\n",
       "      <th>3</th>\n",
       "      <td>53</td>\n",
       "      <td>Private</td>\n",
       "      <td>11th</td>\n",
       "      <td>7.0</td>\n",
       "      <td>Married-civ-spouse</td>\n",
       "      <td>Handlers-cleaners</td>\n",
       "      <td>Husband</td>\n",
       "      <td>Black</td>\n",
       "      <td>Male</td>\n",
       "      <td>0.0</td>\n",
       "      <td>0.0</td>\n",
       "      <td>40.0</td>\n",
       "      <td>United-States</td>\n",
       "      <td>&lt;=50K</td>\n",
       "    </tr>\n",
       "    <tr>\n",
       "      <th>4</th>\n",
       "      <td>28</td>\n",
       "      <td>Private</td>\n",
       "      <td>Bachelors</td>\n",
       "      <td>13.0</td>\n",
       "      <td>Married-civ-spouse</td>\n",
       "      <td>Prof-specialty</td>\n",
       "      <td>Wife</td>\n",
       "      <td>Black</td>\n",
       "      <td>Female</td>\n",
       "      <td>0.0</td>\n",
       "      <td>0.0</td>\n",
       "      <td>40.0</td>\n",
       "      <td>Cuba</td>\n",
       "      <td>&lt;=50K</td>\n",
       "    </tr>\n",
       "  </tbody>\n",
       "</table>\n",
       "</div>"
      ],
      "text/plain": [
       "   age          workclass education_level  education-num       marital-status  \\\n",
       "0   39          State-gov       Bachelors           13.0        Never-married   \n",
       "1   50   Self-emp-not-inc       Bachelors           13.0   Married-civ-spouse   \n",
       "2   38            Private         HS-grad            9.0             Divorced   \n",
       "3   53            Private            11th            7.0   Married-civ-spouse   \n",
       "4   28            Private       Bachelors           13.0   Married-civ-spouse   \n",
       "\n",
       "           occupation    relationship    race      sex  capital-gain  \\\n",
       "0        Adm-clerical   Not-in-family   White     Male        2174.0   \n",
       "1     Exec-managerial         Husband   White     Male           0.0   \n",
       "2   Handlers-cleaners   Not-in-family   White     Male           0.0   \n",
       "3   Handlers-cleaners         Husband   Black     Male           0.0   \n",
       "4      Prof-specialty            Wife   Black   Female           0.0   \n",
       "\n",
       "   capital-loss  hours-per-week  native-country income  \n",
       "0           0.0            40.0   United-States  <=50K  \n",
       "1           0.0            13.0   United-States  <=50K  \n",
       "2           0.0            40.0   United-States  <=50K  \n",
       "3           0.0            40.0   United-States  <=50K  \n",
       "4           0.0            40.0            Cuba  <=50K  "
      ]
     },
     "metadata": {},
     "output_type": "display_data"
    }
   ],
   "source": [
    "# Import libraries necessary for this project\n",
    "import numpy as np\n",
    "import pandas as pd\n",
    "from time import time\n",
    "from IPython.display import display # Allows the use of display() for DataFrames\n",
    "\n",
    "# Import supplementary visualization code visuals.py\n",
    "import visuals as vs\n",
    "\n",
    "# Pretty display for notebooks\n",
    "%matplotlib inline\n",
    "\n",
    "# Load the Census dataset\n",
    "data = pd.read_csv(\"census.csv\")\n",
    "\n",
    "# Success - Display the first record\n",
    "#display(data.head(n=1))\n",
    "\n",
    "display(data.head())  # Display the first five records to check more rows."
   ]
  },
  {
   "cell_type": "markdown",
   "metadata": {},
   "source": [
    "### Implementation: Data Exploration\n",
    "A cursory investigation of the dataset will determine how many individuals fit into either group, and will tell us about the percentage of these individuals making more than \\$50,000. In the code cell below, you will need to compute the following:\n",
    "- The total number of records, `'n_records'`\n",
    "- The number of individuals making more than \\$50,000 annually, `'n_greater_50k'`.\n",
    "- The number of individuals making at most \\$50,000 annually, `'n_at_most_50k'`.\n",
    "- The percentage of individuals making more than \\$50,000 annually, `'greater_percent'`.\n",
    "\n",
    "** HINT: ** You may need to look at the table above to understand how the `'income'` entries are formatted. "
   ]
  },
  {
   "cell_type": "code",
   "execution_count": 2,
   "metadata": {},
   "outputs": [
    {
     "name": "stdout",
     "output_type": "stream",
     "text": [
      "0\n"
     ]
    }
   ],
   "source": [
    "print(data.isnull().sum().sum()) # check to see if there are NaN in a DataFrame.  (the answer was 0, so it is ok)"
   ]
  },
  {
   "cell_type": "code",
   "execution_count": 3,
   "metadata": {},
   "outputs": [
    {
     "name": "stdout",
     "output_type": "stream",
     "text": [
      "Total number of records: 45222\n",
      "Individuals making more than $50,000: 11208\n",
      "Individuals making at most $50,000: 34014\n",
      "Percentage of individuals making more than $50,000: 24.78439697492371%\n"
     ]
    }
   ],
   "source": [
    "# TODO: Total number of records\n",
    "n_records = len(data)\n",
    "\n",
    "# Find unique values for \"income column\"\n",
    "data.income.unique()\n",
    "# ['<=50K', '>50K']\n",
    "\n",
    "#print(data.income.value_counts() )\n",
    "\n",
    "#  TODO: Number of records where individual's income is more than $50,000\n",
    "n_greater_50k = data.income.value_counts()[1]\n",
    "\n",
    "# TODO: Number of records where individual's income is at most $50,000\n",
    "n_at_most_50k = data.income.value_counts()[0]\n",
    "\n",
    "#print(n_greater_50k + n_at_most_50k) make sure the toal is the same as total number of records\n",
    "\n",
    "# TODO: Percentage of individuals whose income is more than $50,000\n",
    "greater_percent = (n_greater_50k/n_records) * 100.0\n",
    "\n",
    "\n",
    "# Print the results\n",
    "print(\"Total number of records: {}\".format(n_records))\n",
    "print(\"Individuals making more than $50,000: {}\".format(n_greater_50k))\n",
    "print(\"Individuals making at most $50,000: {}\".format(n_at_most_50k))\n",
    "print(\"Percentage of individuals making more than $50,000: {}%\".format(greater_percent))"
   ]
  },
  {
   "cell_type": "markdown",
   "metadata": {},
   "source": [
    "** Featureset Exploration **\n",
    "\n",
    "* **age**: continuous. \n",
    "* **workclass**: Private, Self-emp-not-inc, Self-emp-inc, Federal-gov, Local-gov, State-gov, Without-pay, Never-worked. \n",
    "* **education**: Bachelors, Some-college, 11th, HS-grad, Prof-school, Assoc-acdm, Assoc-voc, 9th, 7th-8th, 12th, Masters, 1st-4th, 10th, Doctorate, 5th-6th, Preschool. \n",
    "* **education-num**: continuous. \n",
    "* **marital-status**: Married-civ-spouse, Divorced, Never-married, Separated, Widowed, Married-spouse-absent, Married-AF-spouse. \n",
    "* **occupation**: Tech-support, Craft-repair, Other-service, Sales, Exec-managerial, Prof-specialty, Handlers-cleaners, Machine-op-inspct, Adm-clerical, Farming-fishing, Transport-moving, Priv-house-serv, Protective-serv, Armed-Forces. \n",
    "* **relationship**: Wife, Own-child, Husband, Not-in-family, Other-relative, Unmarried. \n",
    "* **race**: Black, White, Asian-Pac-Islander, Amer-Indian-Eskimo, Other. \n",
    "* **sex**: Female, Male. \n",
    "* **capital-gain**: continuous. \n",
    "* **capital-loss**: continuous. \n",
    "* **hours-per-week**: continuous. \n",
    "* **native-country**: United-States, Cambodia, England, Puerto-Rico, Canada, Germany, Outlying-US(Guam-USVI-etc), India, Japan, Greece, South, China, Cuba, Iran, Honduras, Philippines, Italy, Poland, Jamaica, Vietnam, Mexico, Portugal, Ireland, France, Dominican-Republic, Laos, Ecuador, Taiwan, Haiti, Columbia, Hungary, Guatemala, Nicaragua, Scotland, Thailand, Yugoslavia, El-Salvador, Trinadad&Tobago, Peru, Hong, Holand-Netherlands."
   ]
  },
  {
   "cell_type": "markdown",
   "metadata": {},
   "source": [
    "----\n",
    "## Preparing the Data\n",
    "Before data can be used as input for machine learning algorithms, it often must be cleaned, formatted, and restructured — this is typically known as **preprocessing**. Fortunately, for this dataset, there are no invalid or missing entries we must deal with, however, there are some qualities about certain features that must be adjusted. This preprocessing can help tremendously with the outcome and predictive power of nearly all learning algorithms."
   ]
  },
  {
   "cell_type": "markdown",
   "metadata": {},
   "source": [
    "### Transforming Skewed Continuous Features\n",
    "A dataset may sometimes contain at least one feature whose values tend to lie near a single number, but will also have a non-trivial number of vastly larger or smaller values than that single number.  Algorithms can be sensitive to such distributions of values and can underperform if the range is not properly normalized. With the census dataset two features fit this description: '`capital-gain'` and `'capital-loss'`. \n",
    "\n",
    "Run the code cell below to plot a histogram of these two features. Note the range of the values present and how they are distributed."
   ]
  },
  {
   "cell_type": "code",
   "execution_count": 4,
   "metadata": {},
   "outputs": [
    {
     "name": "stderr",
     "output_type": "stream",
     "text": [
      "E:\\MyFiles\\intro_to_ML_with_tensorflow_bertelsmann\\supervised_learning\\cd0025-supervised-learning\\finding_donors\\visuals.py:48: UserWarning: Matplotlib is currently using module://matplotlib_inline.backend_inline, which is a non-GUI backend, so cannot show the figure.\n",
      "  fig.show()\n"
     ]
    },
    {
     "data": {
      "image/png": "[encoded data removed]",
      "text/plain": [
       "<Figure size 792x360 with 2 Axes>"
      ]
     },
     "metadata": {
      "needs_background": "light"
     },
     "output_type": "display_data"
    }
   ],
   "source": [
    "# Split the data into features and target label\n",
    "income_raw = data['income']  # just income column.\n",
    "features_raw = data.drop('income', axis = 1)  # drop \"income\" from column and everything else.\n",
    "\n",
    "# Visualize skewed continuous features of original data\n",
    "vs.distribution(data)  # vs = visuals.py.  distribution function hardcoded to visualize \"capital-gain\" and \"capital-loss\"."
   ]
  },
  {
   "cell_type": "markdown",
   "metadata": {},
   "source": [
    "For highly-skewed feature distributions such as `'capital-gain'` and `'capital-loss'`, it is common practice to apply a <a href=\"https://en.wikipedia.org/wiki/Data_transformation_(statistics)\">logarithmic transformation</a> on the data so that the very large and very small values do not negatively affect the performance of a learning algorithm. Using a logarithmic transformation significantly reduces the range of values caused by outliers. Care must be taken when applying this transformation however: The logarithm of `0` is undefined, so we must translate the values by a small amount above `0` to apply the the logarithm successfully.\n",
    "\n",
    "Run the code cell below to perform a transformation on the data and visualize the results. Again, note the range of values and how they are distributed. "
   ]
  },
  {
   "cell_type": "code",
   "execution_count": 5,
   "metadata": {},
   "outputs": [
    {
     "data": {
      "image/png": "[encoded data removed]",
      "text/plain": [
       "<Figure size 792x360 with 2 Axes>"
      ]
     },
     "metadata": {
      "needs_background": "light"
     },
     "output_type": "display_data"
    }
   ],
   "source": [
    "# Log-transform the skewed features\n",
    "skewed = ['capital-gain', 'capital-loss']\n",
    "features_log_transformed = pd.DataFrame(data = features_raw)\n",
    "features_log_transformed[skewed] = features_raw[skewed].apply(lambda x: np.log(x + 1)) # log(x+1) transformation.\n",
    "\n",
    "# Visualize the new log distributions\n",
    "vs.distribution(features_log_transformed, transformed = True)"
   ]
  },
  {
   "cell_type": "markdown",
   "metadata": {},
   "source": [
    "### Normalizing Numerical Features\n",
    "In addition to performing transformations on features that are highly skewed, it is often good practice to perform some type of scaling on numerical features. Applying a scaling to the data does not change the shape of each feature's distribution (such as `'capital-gain'` or `'capital-loss'` above); however, normalization ensures that each feature is treated equally when applying supervised learners. Note that once scaling is applied, observing the data in its raw form will no longer have the same original meaning, as exampled below.\n",
    "\n",
    "Run the code cell below to normalize each numerical feature. We will use [`sklearn.preprocessing.MinMaxScaler`](http://scikit-learn.org/stable/modules/generated/sklearn.preprocessing.MinMaxScaler.html) for this."
   ]
  },
  {
   "cell_type": "code",
   "execution_count": 6,
   "metadata": {},
   "outputs": [
    {
     "data": {
      "text/html": [
       "<div>\n",
       "<style scoped>\n",
       "    .dataframe tbody tr th:only-of-type {\n",
       "        vertical-align: middle;\n",
       "    }\n",
       "\n",
       "    .dataframe tbody tr th {\n",
       "        vertical-align: top;\n",
       "    }\n",
       "\n",
       "    .dataframe thead th {\n",
       "        text-align: right;\n",
       "    }\n",
       "</style>\n",
       "<table border=\"1\" class=\"dataframe\">\n",
       "  <thead>\n",
       "    <tr style=\"text-align: right;\">\n",
       "      <th></th>\n",
       "      <th>age</th>\n",
       "      <th>workclass</th>\n",
       "      <th>education_level</th>\n",
       "      <th>education-num</th>\n",
       "      <th>marital-status</th>\n",
       "      <th>occupation</th>\n",
       "      <th>relationship</th>\n",
       "      <th>race</th>\n",
       "      <th>sex</th>\n",
       "      <th>capital-gain</th>\n",
       "      <th>capital-loss</th>\n",
       "      <th>hours-per-week</th>\n",
       "      <th>native-country</th>\n",
       "    </tr>\n",
       "  </thead>\n",
       "  <tbody>\n",
       "    <tr>\n",
       "      <th>0</th>\n",
       "      <td>0.301370</td>\n",
       "      <td>State-gov</td>\n",
       "      <td>Bachelors</td>\n",
       "      <td>0.800000</td>\n",
       "      <td>Never-married</td>\n",
       "      <td>Adm-clerical</td>\n",
       "      <td>Not-in-family</td>\n",
       "      <td>White</td>\n",
       "      <td>Male</td>\n",
       "      <td>0.667492</td>\n",
       "      <td>0.0</td>\n",
       "      <td>0.397959</td>\n",
       "      <td>United-States</td>\n",
       "    </tr>\n",
       "    <tr>\n",
       "      <th>1</th>\n",
       "      <td>0.452055</td>\n",
       "      <td>Self-emp-not-inc</td>\n",
       "      <td>Bachelors</td>\n",
       "      <td>0.800000</td>\n",
       "      <td>Married-civ-spouse</td>\n",
       "      <td>Exec-managerial</td>\n",
       "      <td>Husband</td>\n",
       "      <td>White</td>\n",
       "      <td>Male</td>\n",
       "      <td>0.000000</td>\n",
       "      <td>0.0</td>\n",
       "      <td>0.122449</td>\n",
       "      <td>United-States</td>\n",
       "    </tr>\n",
       "    <tr>\n",
       "      <th>2</th>\n",
       "      <td>0.287671</td>\n",
       "      <td>Private</td>\n",
       "      <td>HS-grad</td>\n",
       "      <td>0.533333</td>\n",
       "      <td>Divorced</td>\n",
       "      <td>Handlers-cleaners</td>\n",
       "      <td>Not-in-family</td>\n",
       "      <td>White</td>\n",
       "      <td>Male</td>\n",
       "      <td>0.000000</td>\n",
       "      <td>0.0</td>\n",
       "      <td>0.397959</td>\n",
       "      <td>United-States</td>\n",
       "    </tr>\n",
       "    <tr>\n",
       "      <th>3</th>\n",
       "      <td>0.493151</td>\n",
       "      <td>Private</td>\n",
       "      <td>11th</td>\n",
       "      <td>0.400000</td>\n",
       "      <td>Married-civ-spouse</td>\n",
       "      <td>Handlers-cleaners</td>\n",
       "      <td>Husband</td>\n",
       "      <td>Black</td>\n",
       "      <td>Male</td>\n",
       "      <td>0.000000</td>\n",
       "      <td>0.0</td>\n",
       "      <td>0.397959</td>\n",
       "      <td>United-States</td>\n",
       "    </tr>\n",
       "    <tr>\n",
       "      <th>4</th>\n",
       "      <td>0.150685</td>\n",
       "      <td>Private</td>\n",
       "      <td>Bachelors</td>\n",
       "      <td>0.800000</td>\n",
       "      <td>Married-civ-spouse</td>\n",
       "      <td>Prof-specialty</td>\n",
       "      <td>Wife</td>\n",
       "      <td>Black</td>\n",
       "      <td>Female</td>\n",
       "      <td>0.000000</td>\n",
       "      <td>0.0</td>\n",
       "      <td>0.397959</td>\n",
       "      <td>Cuba</td>\n",
       "    </tr>\n",
       "  </tbody>\n",
       "</table>\n",
       "</div>"
      ],
      "text/plain": [
       "        age          workclass education_level  education-num  \\\n",
       "0  0.301370          State-gov       Bachelors       0.800000   \n",
       "1  0.452055   Self-emp-not-inc       Bachelors       0.800000   \n",
       "2  0.287671            Private         HS-grad       0.533333   \n",
       "3  0.493151            Private            11th       0.400000   \n",
       "4  0.150685            Private       Bachelors       0.800000   \n",
       "\n",
       "        marital-status          occupation    relationship    race      sex  \\\n",
       "0        Never-married        Adm-clerical   Not-in-family   White     Male   \n",
       "1   Married-civ-spouse     Exec-managerial         Husband   White     Male   \n",
       "2             Divorced   Handlers-cleaners   Not-in-family   White     Male   \n",
       "3   Married-civ-spouse   Handlers-cleaners         Husband   Black     Male   \n",
       "4   Married-civ-spouse      Prof-specialty            Wife   Black   Female   \n",
       "\n",
       "   capital-gain  capital-loss  hours-per-week  native-country  \n",
       "0      0.667492           0.0        0.397959   United-States  \n",
       "1      0.000000           0.0        0.122449   United-States  \n",
       "2      0.000000           0.0        0.397959   United-States  \n",
       "3      0.000000           0.0        0.397959   United-States  \n",
       "4      0.000000           0.0        0.397959            Cuba  "
      ]
     },
     "metadata": {},
     "output_type": "display_data"
    }
   ],
   "source": [
    "# Import sklearn.preprocessing.StandardScaler\n",
    "from sklearn.preprocessing import MinMaxScaler\n",
    "\n",
    "# Initialize a scaler, then apply it to the features\n",
    "scaler = MinMaxScaler() # default=(0, 1)\n",
    "numerical = ['age', 'education-num', 'capital-gain', 'capital-loss', 'hours-per-week']\n",
    "\n",
    "features_log_minmax_transform = pd.DataFrame(data = features_log_transformed)\n",
    "features_log_minmax_transform[numerical] = scaler.fit_transform(features_log_transformed[numerical])\n",
    "\n",
    "# Show an example of a record with scaling applied\n",
    "display(features_log_minmax_transform.head(n = 5))"
   ]
  },
  {
   "cell_type": "markdown",
   "metadata": {},
   "source": [
    "### Implementation: Data Preprocessing\n",
    "\n",
    "From the table in **Exploring the Data** above, we can see there are several features for each record that are non-numeric. Typically, learning algorithms expect input to be numeric, which requires that non-numeric features (called *categorical variables*) be converted. One popular way to convert categorical variables is by using the **one-hot encoding** scheme. One-hot encoding creates a _\"dummy\"_ variable for each possible category of each non-numeric feature. For example, assume `someFeature` has three possible entries: `A`, `B`, or `C`. We then encode this feature into `someFeature_A`, `someFeature_B` and `someFeature_C`.\n",
    "\n",
    "|   | someFeature |                    | someFeature_A | someFeature_B | someFeature_C |\n",
    "| :-: | :-: |                            | :-: | :-: | :-: |\n",
    "| 0 |  B  |  | 0 | 1 | 0 |\n",
    "| 1 |  C  | ----> one-hot encode ----> | 0 | 0 | 1 |\n",
    "| 2 |  A  |  | 1 | 0 | 0 |\n",
    "\n",
    "Additionally, as with the non-numeric features, we need to convert the non-numeric target label, `'income'` to numerical values for the learning algorithm to work. Since there are only two possible categories for this label (\"<=50K\" and \">50K\"), we can avoid using one-hot encoding and simply encode these two categories as `0` and `1`, respectively. In code cell below, you will need to implement the following:\n",
    " - Use [`pandas.get_dummies()`](http://pandas.pydata.org/pandas-docs/stable/generated/pandas.get_dummies.html?highlight=get_dummies#pandas.get_dummies) to perform one-hot encoding on the `'features_log_minmax_transform'` data.\n",
    " - Convert the target label `'income_raw'` to numerical entries.\n",
    "   - Set records with \"<=50K\" to `0` and records with \">50K\" to `1`."
   ]
  },
  {
   "cell_type": "code",
   "execution_count": 7,
   "metadata": {},
   "outputs": [
    {
     "name": "stdout",
     "output_type": "stream",
     "text": [
      "103 total features after one-hot encoding.\n",
      "['age', 'education-num', 'capital-gain', 'capital-loss', 'hours-per-week', 'workclass_ Federal-gov', 'workclass_ Local-gov', 'workclass_ Private', 'workclass_ Self-emp-inc', 'workclass_ Self-emp-not-inc', 'workclass_ State-gov', 'workclass_ Without-pay', 'education_level_ 10th', 'education_level_ 11th', 'education_level_ 12th', 'education_level_ 1st-4th', 'education_level_ 5th-6th', 'education_level_ 7th-8th', 'education_level_ 9th', 'education_level_ Assoc-acdm', 'education_level_ Assoc-voc', 'education_level_ Bachelors', 'education_level_ Doctorate', 'education_level_ HS-grad', 'education_level_ Masters', 'education_level_ Preschool', 'education_level_ Prof-school', 'education_level_ Some-college', 'marital-status_ Divorced', 'marital-status_ Married-AF-spouse', 'marital-status_ Married-civ-spouse', 'marital-status_ Married-spouse-absent', 'marital-status_ Never-married', 'marital-status_ Separated', 'marital-status_ Widowed', 'occupation_ Adm-clerical', 'occupation_ Armed-Forces', 'occupation_ Craft-repair', 'occupation_ Exec-managerial', 'occupation_ Farming-fishing', 'occupation_ Handlers-cleaners', 'occupation_ Machine-op-inspct', 'occupation_ Other-service', 'occupation_ Priv-house-serv', 'occupation_ Prof-specialty', 'occupation_ Protective-serv', 'occupation_ Sales', 'occupation_ Tech-support', 'occupation_ Transport-moving', 'relationship_ Husband', 'relationship_ Not-in-family', 'relationship_ Other-relative', 'relationship_ Own-child', 'relationship_ Unmarried', 'relationship_ Wife', 'race_ Amer-Indian-Eskimo', 'race_ Asian-Pac-Islander', 'race_ Black', 'race_ Other', 'race_ White', 'sex_ Female', 'sex_ Male', 'native-country_ Cambodia', 'native-country_ Canada', 'native-country_ China', 'native-country_ Columbia', 'native-country_ Cuba', 'native-country_ Dominican-Republic', 'native-country_ Ecuador', 'native-country_ El-Salvador', 'native-country_ England', 'native-country_ France', 'native-country_ Germany', 'native-country_ Greece', 'native-country_ Guatemala', 'native-country_ Haiti', 'native-country_ Holand-Netherlands', 'native-country_ Honduras', 'native-country_ Hong', 'native-country_ Hungary', 'native-country_ India', 'native-country_ Iran', 'native-country_ Ireland', 'native-country_ Italy', 'native-country_ Jamaica', 'native-country_ Japan', 'native-country_ Laos', 'native-country_ Mexico', 'native-country_ Nicaragua', 'native-country_ Outlying-US(Guam-USVI-etc)', 'native-country_ Peru', 'native-country_ Philippines', 'native-country_ Poland', 'native-country_ Portugal', 'native-country_ Puerto-Rico', 'native-country_ Scotland', 'native-country_ South', 'native-country_ Taiwan', 'native-country_ Thailand', 'native-country_ Trinadad&Tobago', 'native-country_ United-States', 'native-country_ Vietnam', 'native-country_ Yugoslavia']\n"
     ]
    }
   ],
   "source": [
    "#TODO: One-hot encode the 'features_log_minmax_transform' data using pandas.get_dummies()\n",
    "\n",
    "features_final = pd.get_dummies(features_log_minmax_transform, columns=['workclass', 'education_level', 'marital-status',  \\\n",
    "                            'occupation', 'relationship', 'race', 'sex','native-country'])\n",
    "#display(features_final)\n",
    "\n",
    "# TODO: Encode the 'income_raw' data to numerical values\n",
    "income = income_raw.replace(\n",
    "    to_replace=['<=50K', '>50K'],\n",
    "    value=[0, 1])\n",
    "\n",
    "#display(list(features_final.columns.values))\n",
    "\n",
    "encoded = list(features_final.columns)\n",
    "print(\"{} total features after one-hot encoding.\".format(len(encoded)))\n",
    "\n",
    "# Uncomment the following line to see the encoded feature names\n",
    "print(encoded)\n",
    "\n",
    "\n"
   ]
  },
  {
   "cell_type": "markdown",
   "metadata": {},
   "source": [
    "### Shuffle and Split Data\n",
    "Now all _categorical variables_ have been converted into numerical features, and all numerical features have been normalized. As always, we will now split the data (both features and their labels) into training and test sets. 80% of the data will be used for training and 20% for testing.\n",
    "\n",
    "Run the code cell below to perform this split."
   ]
  },
  {
   "cell_type": "code",
   "execution_count": 8,
   "metadata": {},
   "outputs": [
    {
     "name": "stdout",
     "output_type": "stream",
     "text": [
      "Training set has 36177 samples.\n",
      "Testing set has 9045 samples.\n"
     ]
    }
   ],
   "source": [
    "# Import train_test_split\n",
    "from sklearn.model_selection import train_test_split\n",
    "\n",
    "# Split the 'features' and 'income' data into training and testing sets\n",
    "X_train, X_test, y_train, y_test = train_test_split(features_final, \n",
    "                                                    income, \n",
    "                                                    test_size = 0.2, \n",
    "                                                    random_state = 0)\n",
    "\n",
    "# Show the results of the split\n",
    "print(\"Training set has {} samples.\".format(X_train.shape[0]))\n",
    "print(\"Testing set has {} samples.\".format(X_test.shape[0]))"
   ]
  },
  {
   "cell_type": "markdown",
   "metadata": {},
   "source": [
    "----\n",
    "## Evaluating Model Performance\n",
    "In this section, we will investigate four different algorithms, and determine which is best at modeling the data. Three of these algorithms will be supervised learners of your choice, and the fourth algorithm is known as a *naive predictor*."
   ]
  },
  {
   "cell_type": "markdown",
   "metadata": {},
   "source": [
    "### Metrics and the Naive Predictor\n",
    "*CharityML*, equipped with their research, knows individuals that make more than \\$50,000 are most likely to donate to their charity. Because of this, *CharityML* is particularly interested in predicting who makes more than \\$50,000 accurately. It would seem that using **accuracy** as a metric for evaluating a particular model's performace would be appropriate. Additionally, identifying someone that *does not* make more than \\$50,000 as someone who does would be detrimental to *CharityML*, since they are looking to find individuals willing to donate. Therefore, a model's ability to precisely predict those that make more than \\$50,000 is *more important* than the model's ability to **recall** those individuals. We can use **F-beta score** as a metric that considers both precision and recall:\n",
    "\n",
    "$$ F_{\\beta} = (1 + \\beta^2) \\cdot \\frac{precision \\cdot recall}{\\left( \\beta^2 \\cdot precision \\right) + recall} $$\n",
    "\n",
    "In particular, when $\\beta = 0.5$, more emphasis is placed on precision. This is called the **F$_{0.5}$ score** (or F-score for simplicity).\n",
    "\n",
    "Looking at the distribution of classes (those who make at most \\$50,000, and those who make more), it's clear most individuals do not make more than \\$50,000. This can greatly affect **accuracy**, since we could simply say *\"this person does not make more than \\$50,000\"* and generally be right, without ever looking at the data! Making such a statement would be called **naive**, since we have not considered any information to substantiate the claim. It is always important to consider the *naive prediction* for your data, to help establish a benchmark for whether a model is performing well. That been said, using that prediction would be pointless: If we predicted all people made less than \\$50,000, *CharityML* would identify no one as donors. \n",
    "\n",
    "\n",
    "#### Note: Recap of accuracy, precision, recall\n",
    "\n",
    "** Accuracy ** measures how often the classifier makes the correct prediction. It’s the ratio of the number of correct predictions to the total number of predictions (the number of test data points).\n",
    "\n",
    "** Precision ** tells us what proportion of messages we classified as spam, actually were spam.\n",
    "It is a ratio of true positives(words classified as spam, and which are actually spam) to all positives(all words classified as spam, irrespective of whether that was the correct classificatio), in other words it is the ratio of\n",
    "\n",
    "`[True Positives/(True Positives + False Positives)]`\n",
    "\n",
    "** Recall(sensitivity)** tells us what proportion of messages that actually were spam were classified by us as spam.\n",
    "It is a ratio of true positives(words classified as spam, and which are actually spam) to all the words that were actually spam, in other words it is the ratio of\n",
    "\n",
    "`[True Positives/(True Positives + False Negatives)]`\n",
    "\n",
    "For classification problems that are skewed in their classification distributions like in our case, for example if we had a 100 text messages and only 2 were spam and the rest 98 weren't, accuracy by itself is not a very good metric. We could classify 90 messages as not spam(including the 2 that were spam but we classify them as not spam, hence they would be false negatives) and 10 as spam(all 10 false positives) and still get a reasonably good accuracy score. For such cases, precision and recall come in very handy. These two metrics can be combined to get the F1 score, which is weighted average(harmonic mean) of the precision and recall scores. This score can range from 0 to 1, with 1 being the best possible F1 score(we take the harmonic mean as we are dealing with ratios)."
   ]
  },
  {
   "cell_type": "markdown",
   "metadata": {},
   "source": [
    "### Question 1 - Naive Predictor Performace\n",
    "* If we chose a model that always predicted an individual made more than $50,000, what would  that model's accuracy and F-score be on this dataset? You must use the code cell below and assign your results to `'accuracy'` and `'fscore'` to be used later.\n",
    "\n",
    "** Please note ** that the the purpose of generating a naive predictor is simply to show what a base model without any intelligence would look like. In the real world, ideally your base model would be either the results of a previous model or could be based on a research paper upon which you are looking to improve. When there is no benchmark model set, getting a result better than random choice is a place you could start from.\n",
    "\n",
    "** HINT: ** \n",
    "\n",
    "* When we have a model that always predicts '1' (i.e. the individual makes more than 50k) then our model will have no True Negatives(TN) or False Negatives(FN) as we are not making any negative('0' value) predictions. Therefore our Accuracy in this case becomes the same as our Precision(True Positives/(True Positives + False Positives)) as every prediction that we have made with value '1' that should have '0' becomes a False Positive; therefore our denominator in this case is the total number of records we have in total. \n",
    "* Our Recall score(True Positives/(True Positives + False Negatives)) in this setting becomes 1 as we have no False Negatives."
   ]
  },
  {
   "cell_type": "code",
   "execution_count": 9,
   "metadata": {},
   "outputs": [
    {
     "data": {
      "text/html": [
       "<div>\n",
       "<style scoped>\n",
       "    .dataframe tbody tr th:only-of-type {\n",
       "        vertical-align: middle;\n",
       "    }\n",
       "\n",
       "    .dataframe tbody tr th {\n",
       "        vertical-align: top;\n",
       "    }\n",
       "\n",
       "    .dataframe thead th {\n",
       "        text-align: right;\n",
       "    }\n",
       "</style>\n",
       "<table border=\"1\" class=\"dataframe\">\n",
       "  <thead>\n",
       "    <tr style=\"text-align: right;\">\n",
       "      <th></th>\n",
       "      <th>Predicted &gt;50k</th>\n",
       "      <th>Predicted &lt;=50k</th>\n",
       "    </tr>\n",
       "  </thead>\n",
       "  <tbody>\n",
       "    <tr>\n",
       "      <th>actual &gt;50k</th>\n",
       "      <td>True Positive</td>\n",
       "      <td>False Negative</td>\n",
       "    </tr>\n",
       "    <tr>\n",
       "      <th>actual &lt;=50k</th>\n",
       "      <td>False Positive</td>\n",
       "      <td>True Negative</td>\n",
       "    </tr>\n",
       "  </tbody>\n",
       "</table>\n",
       "</div>"
      ],
      "text/plain": [
       "              Predicted >50k Predicted <=50k\n",
       "actual >50k    True Positive  False Negative\n",
       "actual <=50k  False Positive   True Negative"
      ]
     },
     "execution_count": 9,
     "metadata": {},
     "output_type": "execute_result"
    }
   ],
   "source": [
    "# create a table so I can visualize Precision and Recall easilly.\n",
    "quick_table = [['True Positive', 'False Negative'],['False Positive', 'True Negative']]\n",
    "pd.DataFrame(quick_table, index=pd.Index(['actual >50k', 'actual <=50k']), columns=['Predicted >50k', 'Predicted <=50k'])"
   ]
  },
  {
   "cell_type": "code",
   "execution_count": 10,
   "metadata": {},
   "outputs": [
    {
     "name": "stdout",
     "output_type": "stream",
     "text": [
      "Naive Predictor: [Accuracy score: 0.2478, F-score: 0.6223]\n"
     ]
    }
   ],
   "source": [
    "TP = np.sum(income) # note: '<=50K' is 0, '>50K' is 1. So TP is the same as all >50k income.\n",
    "FP = income.count() - TP  # Specific to the naive case\n",
    "\n",
    "TN = 0 # No predicted negatives in the naive case\n",
    "FN = 0 # No predicted negatives in the naive case\n",
    "\n",
    "# TODO: Calculate accuracy, precision and recall\n",
    "accuracy = (TP+TN)/(TP+FP+FN+TN)\n",
    "recall = TP/(TP+FP) \n",
    "precision = TP/(TP+FN)\n",
    "\n",
    "# TODO: Calculate F-score using the formula above for beta = 0.5 and correct values for precision and recall.\n",
    "beta = 0.5\n",
    "fscore = (1+beta*beta)*(precision*recall)/(beta*beta*precision+recall)\n",
    "\n",
    "# Print the results \n",
    "print(\"Naive Predictor: [Accuracy score: {:.4f}, F-score: {:.4f}]\".format(accuracy, fscore))"
   ]
  },
  {
   "cell_type": "markdown",
   "metadata": {},
   "source": [
    "###  Supervised Learning Models\n",
    "**The following are some of the supervised learning models that are currently available in** [`scikit-learn`](http://scikit-learn.org/stable/supervised_learning.html) **that you may choose from:**\n",
    "- Gaussian Naive Bayes (GaussianNB)\n",
    "- Decision Trees\n",
    "- Ensemble Methods (Bagging, AdaBoost, Random Forest, Gradient Boosting)\n",
    "- K-Nearest Neighbors (KNeighbors)\n",
    "- Stochastic Gradient Descent Classifier (SGDC)\n",
    "- Support Vector Machines (SVM)\n",
    "- Logistic Regression"
   ]
  },
  {
   "cell_type": "markdown",
   "metadata": {},
   "source": [
    "### Question 2 - Model Application\n",
    "List three of the supervised learning models above that are appropriate for this problem that you will test on the census data. For each model chosen\n",
    "\n",
    "- Describe one real-world application in industry where the model can be applied. \n",
    "- What are the strengths of the model; when does it perform well?\n",
    "- What are the weaknesses of the model; when does it perform poorly?\n",
    "- What makes this model a good candidate for the problem, given what you know about the data?\n",
    "\n",
    "** HINT: **\n",
    "\n",
    "Structure your answer in the same format as above^, with 4 parts for each of the three models you pick. Please include references with your answer."
   ]
  },
  {
   "cell_type": "markdown",
   "metadata": {},
   "source": [
    "---\n",
    "I picked the following three supervised learning models:\n",
    "\n",
    "\n",
    "* Support Vector Machines (SVM)\n",
    "* Random Forest\n",
    "* AdaBoost\n",
    "\n",
    "### Support Vector Machines (SVM)\n",
    "\n",
    "**Real-world application**\n",
    "Classification of satellite data.\n",
    "\n",
    "Reference: https://en.wikipedia.org/wiki/Support-vector_machine\n",
    "\n",
    "**Strengths of the model**\n",
    "* Fewer parameters to optimize.\n",
    "* Not biased by outliners.\n",
    "* Classifies using a subset of training points so it uses less memory.\n",
    "* Complex problems can be solved using kernel functions in the SVM.\n",
    "\n",
    "Reference: https://scikit-learn.org/stable/modules/svm.html\n",
    "\n",
    "**Weaknesses of the model**\n",
    "* Difficult to adjust the parameters and interpret the results. Choosing kernel funciton is not an easy task.\n",
    "\n",
    "Reference: https://scikit-learn.org/stable/modules/svm.html\n",
    "\n",
    "**What makes this model a good candidate for the problem**\n",
    "SVM can be used for classification and regression problems. For this \"finding donors\" problem, I am trying to do a binary classification and SMV should work well with the problem like this. Since I don't know much about the data, it is good to have a linear classifier with an option to tweak the kernel function so that non-linear boundaries can be implemented.\n",
    "\n",
    "### Random Forest\n",
    "\n",
    "**Real-world application**\n",
    "Healthcare industry. For example, the following paper talks about using random forest algorithm to investigate dry eye disease.\n",
    "\n",
    "Reference: https://www.ncbi.nlm.nih.gov/pmc/articles/PMC8901303/\n",
    "\n",
    "**Strengths of the model**\n",
    "* Can make better predictions than any single contributing model.\n",
    "* Decision Trees tend to overfit data, but ensemble models are less likely to overfit.\n",
    "\n",
    "Reference: https://en.wikipedia.org/wiki/Random_forest\n",
    "\n",
    "**Weaknesses of the model**\n",
    "* Need to choose the number of trees manually.\n",
    "\n",
    "Reference: https://scikit-learn.org/stable/modules/ensemble.html#forest\n",
    "\n",
    "**What makes this model a good candidate for the problem**\n",
    "Random forest can be used for a classifier problem. Assuming I can pick good values for parameters, I should be able to avoid overfitting and get fairly accurate results.\n",
    "\n",
    "### AdaBoost\n",
    "\n",
    "**Real-world application**\n",
    "It seems that AdaBoost is used in financial industry. For example, some reasearches on credit card fraud detection were done using AdaBoost. The following paper is written about financial distress prediction using AdaBoost.\n",
    "\n",
    "Reference: https://www.sciencedirect.com/science/article/abs/pii/S0957417411000625\n",
    "\n",
    "**Strengths of the model**\n",
    "* More resistant to overfitting than many machine learning algorithms.\n",
    "\n",
    "Reference: https://www.mathworks.com/discovery/adaboost.html\n",
    "\n",
    "**Weaknesses of the model**\n",
    "* Often sensitive to noisy data and outliers.\n",
    "\n",
    "Reference: https://www.mathworks.com/discovery/adaboost.html\n",
    "\n",
    "**What makes this model a good candidate for the problem**\n",
    "AdaBoost can be used for classifiers, and supposed to be easy to implement. I also heard that this is one of the most popular methods on Kaggle.\n",
    "I am using another Ensemble methods (Random Forest) but I want to try AdaBoost to see how the results will be different.\n",
    "\n",
    "---"
   ]
  },
  {
   "cell_type": "markdown",
   "metadata": {},
   "source": [
    "### Implementation - Creating a Training and Predicting Pipeline\n",
    "To properly evaluate the performance of each model you've chosen, it's important that you create a training and predicting pipeline that allows you to quickly and effectively train models using various sizes of training data and perform predictions on the testing data. Your implementation here will be used in the following section.\n",
    "In the code block below, you will need to implement the following:\n",
    " - Import `fbeta_score` and `accuracy_score` from [`sklearn.metrics`](http://scikit-learn.org/stable/modules/classes.html#sklearn-metrics-metrics).\n",
    " - Fit the learner to the sampled training data and record the training time.\n",
    " - Perform predictions on the test data `X_test`, and also on the first 300 training points `X_train[:300]`.\n",
    "   - Record the total prediction time.\n",
    " - Calculate the accuracy score for both the training subset and testing set.\n",
    " - Calculate the F-score for both the training subset and testing set.\n",
    "   - Make sure that you set the `beta` parameter!"
   ]
  },
  {
   "cell_type": "code",
   "execution_count": 11,
   "metadata": {},
   "outputs": [],
   "source": [
    "# TODO: Import two metrics from sklearn - fbeta_score and accuracy_score\n",
    "from sklearn.metrics import accuracy_score, fbeta_score \n",
    "\n",
    "def train_predict(learner, sample_size, X_train, y_train, X_test, y_test): \n",
    "    '''\n",
    "    inputs:\n",
    "       - learner: the learning algorithm to be trained and predicted on\n",
    "       - sample_size: the size of samples (number) to be drawn from training set\n",
    "       - X_train: features training set\n",
    "       - y_train: income training set\n",
    "       - X_test: features testing set\n",
    "       - y_test: income testing set\n",
    "    '''\n",
    "    \n",
    "    results = {}\n",
    "    \n",
    "    # TODO: Fit the learner to the training data using slicing with 'sample_size' using .fit(training_features[:], training_labels[:])\n",
    "    start = time() # Get start time\n",
    "    learner = learner.fit(X_train.iloc[:sample_size], y_train.iloc[:sample_size])\n",
    "    end = time() # Get end time\n",
    "    \n",
    "    # TODO: Calculate the training time\n",
    "    results['train_time'] = end - start \n",
    "        \n",
    "    # TODO: Get the predictions on the test set(X_test),\n",
    "    #       then get predictions on the first 300 training samples(X_train) using .predict()\n",
    "    start = time() # Get start time\n",
    "    predictions_test = learner.predict(X_test)\n",
    "    predictions_train = learner.predict(X_train.iloc[:300])\n",
    "    end = time() # Get end time\n",
    "    \n",
    "    # TODO: Calculate the total prediction time\n",
    "    results['pred_time'] = end - start\n",
    "            \n",
    "    # TODO: Compute accuracy on the first 300 training samples which is y_train[:300]\n",
    "    results['acc_train'] = accuracy_score(y_train[:300], predictions_train)\n",
    "        \n",
    "    # TODO: Compute accuracy on test set using accuracy_score()\n",
    "    results['acc_test'] = accuracy_score(y_test, predictions_test)\n",
    "    \n",
    "    # TODO: Compute F-score on the the first 300 training samples using fbeta_score()\n",
    "    results['f_train'] = fbeta_score(y_train[:300], predictions_train, beta=0.5)\n",
    "        \n",
    "    # TODO: Compute F-score on the test set which is y_test\n",
    "    results['f_test'] = fbeta_score(y_test, predictions_test, beta=0.5)\n",
    "       \n",
    "    # Success\n",
    "    print(\"{} trained on {} samples.\".format(learner.__class__.__name__, sample_size))\n",
    "        \n",
    "    # Return the results\n",
    "    return results"
   ]
  },
  {
   "cell_type": "markdown",
   "metadata": {},
   "source": [
    "### Implementation: Initial Model Evaluation\n",
    "In the code cell, you will need to implement the following:\n",
    "- Import the three supervised learning models you've discussed in the previous section.\n",
    "- Initialize the three models and store them in `'clf_A'`, `'clf_B'`, and `'clf_C'`.\n",
    "  - Use a `'random_state'` for each model you use, if provided.\n",
    "  - **Note:** Use the default settings for each model — you will tune one specific model in a later section.\n",
    "- Calculate the number of records equal to 1%, 10%, and 100% of the training data.\n",
    "  - Store those values in `'samples_1'`, `'samples_10'`, and `'samples_100'` respectively.\n",
    "\n",
    "**Note:** Depending on which algorithms you chose, the following implementation may take some time to run!"
   ]
  },
  {
   "cell_type": "code",
   "execution_count": 12,
   "metadata": {},
   "outputs": [
    {
     "name": "stdout",
     "output_type": "stream",
     "text": [
      "SVC trained on 361 samples.\n",
      "{'train_time': 0.04546546936035156, 'pred_time': 0.30206894874572754, 'acc_train': 0.8533333333333334, 'acc_test': 0.8180210060807076, 'f_train': 0.732758620689655, 'f_test': 0.6277580071174378}\n",
      "SVC trained on 3617 samples.\n",
      "{'train_time': 0.4761075973510742, 'pred_time': 2.3155250549316406, 'acc_train': 0.86, 'acc_test': 0.8316196793808734, 'f_train': 0.7352941176470589, 'f_test': 0.662986635676932}\n",
      "SVC trained on 36177 samples.\n",
      "{'train_time': 87.28285098075867, 'pred_time': 20.494083404541016, 'acc_train': 0.8533333333333334, 'acc_test': 0.8423438363736871, 'f_train': 0.7169117647058826, 'f_test': 0.685054319164645}\n",
      "RandomForestClassifier trained on 361 samples.\n",
      "{'train_time': 0.1987743377685547, 'pred_time': 0.38429808616638184, 'acc_train': 1.0, 'acc_test': 0.8151464897733555, 'f_train': 1.0, 'f_test': 0.6201343713341155}\n",
      "RandomForestClassifier trained on 3617 samples.\n",
      "{'train_time': 0.4251060485839844, 'pred_time': 0.16302776336669922, 'acc_train': 0.9966666666666667, 'acc_test': 0.8354892205638474, 'f_train': 0.997191011235955, 'f_test': 0.6684856753069577}\n",
      "RandomForestClassifier trained on 36177 samples.\n",
      "{'train_time': 6.003359079360962, 'pred_time': 0.24205708503723145, 'acc_train': 0.9766666666666667, 'acc_test': 0.8423438363736871, 'f_train': 0.9705882352941175, 'f_test': 0.6813458683819891}\n",
      "AdaBoostClassifier trained on 361 samples.\n",
      "{'train_time': 0.13327932357788086, 'pred_time': 0.18004941940307617, 'acc_train': 0.8933333333333333, 'acc_test': 0.8206744057490326, 'f_train': 0.8012820512820513, 'f_test': 0.6327567673214111}\n",
      "AdaBoostClassifier trained on 3617 samples.\n",
      "{'train_time': 0.280071496963501, 'pred_time': 0.18303298950195312, 'acc_train': 0.84, 'acc_test': 0.849861802100608, 'f_train': 0.6801470588235293, 'f_test': 0.7018820838099199}\n",
      "AdaBoostClassifier trained on 36177 samples.\n",
      "{'train_time': 2.480553150177002, 'pred_time': 0.19204354286193848, 'acc_train': 0.85, 'acc_test': 0.8576008844665561, 'f_train': 0.7115384615384616, 'f_test': 0.7245508982035928}\n"
     ]
    },
    {
     "name": "stderr",
     "output_type": "stream",
     "text": [
      "E:\\MyFiles\\intro_to_ML_with_tensorflow_bertelsmann\\supervised_learning\\cd0025-supervised-learning\\finding_donors\\visuals.py:121: UserWarning: Tight layout not applied. tight_layout cannot make axes width small enough to accommodate all axes decorations\n",
      "  pl.tight_layout()\n"
     ]
    },
    {
     "data": {
      "image/png": "[encoded data removed]",
      "text/plain": [
       "<Figure size 792x576 with 6 Axes>"
      ]
     },
     "metadata": {
      "needs_background": "light"
     },
     "output_type": "display_data"
    }
   ],
   "source": [
    "# TODO: Import the three supervised learning models from sklearn\n",
    "from sklearn.svm import SVC\n",
    "from sklearn.ensemble import RandomForestClassifier, AdaBoostClassifier\n",
    "\n",
    "# TODO: Initialize the three models\n",
    "clf_A = SVC(random_state=42)  # SVM\n",
    "clf_B = RandomForestClassifier(random_state=42)\n",
    "clf_C = AdaBoostClassifier(random_state=42)\n",
    "\n",
    "# TODO: Calculate the number of samples for 1%, 10%, and 100% of the training data\n",
    "# HINT: samples_100 is the entire training set i.e. len(y_train)\n",
    "# HINT: samples_10 is 10% of samples_100 (ensure to set the count of the values to be `int` and not `float`)\n",
    "# HINT: samples_1 is 1% of samples_100 (ensure to set the count of the values to be `int` and not `float`)\n",
    "samples_100 = len(y_train)\n",
    "samples_10 = int(0.1*len(y_train))\n",
    "samples_1 = int(0.01*len(y_train))\n",
    "\n",
    "#print(samples_100)\n",
    "#print(samples_10)\n",
    "#print(samples_1)\n",
    "\n",
    "# Collect results on the learners\n",
    "results = {}\n",
    "for clf in [clf_A, clf_B, clf_C]:\n",
    "    clf_name = clf.__class__.__name__\n",
    "    results[clf_name] = {}\n",
    "    for i, samples in enumerate([samples_1, samples_10, samples_100]):\n",
    "        results[clf_name][i] = \\\n",
    "        train_predict(clf, samples, X_train, y_train, X_test, y_test)\n",
    "        print(results[clf_name][i])\n",
    "\n",
    "# Run metrics visualization for the three supervised learning models chosen\n",
    "vs.evaluate(results, accuracy, fscore)"
   ]
  },
  {
   "cell_type": "markdown",
   "metadata": {},
   "source": [
    "----\n",
    "## Improving Results\n",
    "In this final section, you will choose from the three supervised learning models the *best* model to use on the student data. You will then perform a grid search optimization for the model over the entire training set (`X_train` and `y_train`) by tuning at least one parameter to improve upon the untuned model's F-score. "
   ]
  },
  {
   "cell_type": "markdown",
   "metadata": {},
   "source": [
    "### Question 3 - Choosing the Best Model\n",
    "\n",
    "* Based on the evaluation you performed earlier, in one to two paragraphs, explain to *CharityML* which of the three models you believe to be most appropriate for the task of identifying individuals that make more than \\$50,000. \n",
    "\n",
    "** HINT: ** \n",
    "Look at the graph at the bottom left from the cell above(the visualization created by `vs.evaluate(results, accuracy, fscore)`) and check the F score for the testing set when 100% of the training set is used. Which model has the highest score? Your answer should include discussion of the:\n",
    "* metrics - F score on the testing when 100% of the training data is used, \n",
    "* prediction/training time\n",
    "* the algorithm's suitability for the data."
   ]
  },
  {
   "cell_type": "markdown",
   "metadata": {},
   "source": [
    "#### Answer:\n",
    "\n",
    "Looking at the Fbeta score on testing set when all 36177 samples are used, AdaBoost is highest among the three models. Furthermore, comparing with Fbeta score on training to the same score on testing, AdaBoost results are the most consistent.\n",
    "\n",
    "For prediction/training time, I found that SVC is very slow. AdaBoost is the fastest.\n",
    "\n",
    "Random Forest has a very high accuracy percentage in training but much lower in testing. This indicates that Random Forest overfits the data. The overfitting might be avoided if I can tune to the right hyperparameters, but since AdaBoost is already displaying the consistent results in both training and testing results, I decided AdaBoost is the best model to go foward. SVC model has the similar accuracy and fbeta score results, but since the computation time is large, AdaBoost is preferred."
   ]
  },
  {
   "cell_type": "markdown",
   "metadata": {},
   "source": [
    "### Question 4 - Describing the Model in Layman's Terms\n",
    "\n",
    "* In one to two paragraphs, explain to *CharityML*, in layman's terms, how the final model chosen is supposed to work. Be sure that you are describing the major qualities of the model, such as how the model is trained and how the model makes a prediction. Avoid using advanced mathematical jargon, such as describing equations.\n",
    "\n",
    "**HINT:**\n",
    "\n",
    "When explaining your model, if using external resources please include all citations."
   ]
  },
  {
   "cell_type": "markdown",
   "metadata": {},
   "source": [
    "#### Answer:\n",
    "\n",
    "AdaBoost is one of the emsemble methods algorithm and uses a boosting method. From what I learned in this Udacity course (Introduction to Machine Learning with TensorFlow), AdaBoost fits the first learner in order to maximize accuracy. Then, it focuses on the mistakes this learner made and put bigger weights on those misclassified points. The second learner focuses on these misclassificed points. After the second learner, once again the model would put bigger weights on the misclassified points, and repeat the process. That means the process is done sequenctially. When the process is done, combine them by adding and subtracting the weights to produce the final prediction."
   ]
  },
  {
   "cell_type": "markdown",
   "metadata": {},
   "source": [
    "### Implementation: Model Tuning\n",
    "Fine tune the chosen model. Use grid search (`GridSearchCV`) with at least one important parameter tuned with at least 3 different values. You will need to use the entire training set for this. In the code cell below, you will need to implement the following:\n",
    "- Import [`sklearn.grid_search.GridSearchCV`](http://scikit-learn.org/0.17/modules/generated/sklearn.grid_search.GridSearchCV.html) and [`sklearn.metrics.make_scorer`](http://scikit-learn.org/stable/modules/generated/sklearn.metrics.make_scorer.html).\n",
    "- Initialize the classifier you've chosen and store it in `clf`.\n",
    " - Set a `random_state` if one is available to the same state you set before.\n",
    "- Create a dictionary of parameters you wish to tune for the chosen model.\n",
    " - Example: `parameters = {'parameter' : [list of values]}`.\n",
    " - **Note:** Avoid tuning the `max_features` parameter of your learner if that parameter is available!\n",
    "- Use `make_scorer` to create an `fbeta_score` scoring object (with $\\beta = 0.5$).\n",
    "- Perform grid search on the classifier `clf` using the `'scorer'`, and store it in `grid_obj`.\n",
    "- Fit the grid search object to the training data (`X_train`, `y_train`), and store it in `grid_fit`.\n",
    "\n",
    "**Note:** Depending on the algorithm chosen and the parameter list, the following implementation may take some time to run!"
   ]
  },
  {
   "cell_type": "code",
   "execution_count": 13,
   "metadata": {},
   "outputs": [
    {
     "name": "stdout",
     "output_type": "stream",
     "text": [
      "Fitting 5 folds for each of 30 candidates, totalling 150 fits\n",
      "[CV 1/5] END learning_rate=0.01, n_estimators=10;, score=0.000 total time=   0.4s\n",
      "[CV 2/5] END learning_rate=0.01, n_estimators=10;, score=0.000 total time=   0.4s\n",
      "[CV 3/5] END learning_rate=0.01, n_estimators=10;, score=0.000 total time=   0.4s\n",
      "[CV 4/5] END learning_rate=0.01, n_estimators=10;, score=0.000 total time=   0.4s\n",
      "[CV 5/5] END learning_rate=0.01, n_estimators=10;, score=0.000 total time=   0.4s\n",
      "[CV 1/5] END learning_rate=0.01, n_estimators=50;, score=0.468 total time=   2.1s\n",
      "[CV 2/5] END learning_rate=0.01, n_estimators=50;, score=0.462 total time=   2.1s\n",
      "[CV 3/5] END learning_rate=0.01, n_estimators=50;, score=0.332 total time=   2.1s\n",
      "[CV 4/5] END learning_rate=0.01, n_estimators=50;, score=0.469 total time=   2.1s\n",
      "[CV 5/5] END learning_rate=0.01, n_estimators=50;, score=0.440 total time=   2.1s\n",
      "[CV 1/5] END learning_rate=0.01, n_estimators=100;, score=0.468 total time=   4.2s\n",
      "[CV 2/5] END learning_rate=0.01, n_estimators=100;, score=0.462 total time=   4.2s\n",
      "[CV 3/5] END learning_rate=0.01, n_estimators=100;, score=0.484 total time=   4.2s\n",
      "[CV 4/5] END learning_rate=0.01, n_estimators=100;, score=0.469 total time=   4.2s\n",
      "[CV 5/5] END learning_rate=0.01, n_estimators=100;, score=0.440 total time=   4.2s\n",
      "[CV 1/5] END learning_rate=0.01, n_estimators=150;, score=0.466 total time=   6.3s\n",
      "[CV 2/5] END learning_rate=0.01, n_estimators=150;, score=0.462 total time=   6.3s\n",
      "[CV 3/5] END learning_rate=0.01, n_estimators=150;, score=0.484 total time=   6.3s\n",
      "[CV 4/5] END learning_rate=0.01, n_estimators=150;, score=0.469 total time=   6.4s\n",
      "[CV 5/5] END learning_rate=0.01, n_estimators=150;, score=0.440 total time=   6.3s\n",
      "[CV 1/5] END learning_rate=0.01, n_estimators=200;, score=0.676 total time=   8.5s\n",
      "[CV 2/5] END learning_rate=0.01, n_estimators=200;, score=0.691 total time=   8.4s\n",
      "[CV 3/5] END learning_rate=0.01, n_estimators=200;, score=0.676 total time=   8.5s\n",
      "[CV 4/5] END learning_rate=0.01, n_estimators=200;, score=0.469 total time=   8.4s\n",
      "[CV 5/5] END learning_rate=0.01, n_estimators=200;, score=0.439 total time=   8.5s\n",
      "[CV 1/5] END learning_rate=0.05, n_estimators=10;, score=0.468 total time=   0.4s\n",
      "[CV 2/5] END learning_rate=0.05, n_estimators=10;, score=0.462 total time=   0.4s\n",
      "[CV 3/5] END learning_rate=0.05, n_estimators=10;, score=0.484 total time=   0.4s\n",
      "[CV 4/5] END learning_rate=0.05, n_estimators=10;, score=0.469 total time=   0.4s\n",
      "[CV 5/5] END learning_rate=0.05, n_estimators=10;, score=0.440 total time=   0.4s\n",
      "[CV 1/5] END learning_rate=0.05, n_estimators=50;, score=0.689 total time=   2.0s\n",
      "[CV 2/5] END learning_rate=0.05, n_estimators=50;, score=0.708 total time=   2.1s\n",
      "[CV 3/5] END learning_rate=0.05, n_estimators=50;, score=0.691 total time=   2.1s\n",
      "[CV 4/5] END learning_rate=0.05, n_estimators=50;, score=0.683 total time=   2.1s\n",
      "[CV 5/5] END learning_rate=0.05, n_estimators=50;, score=0.699 total time=   2.1s\n",
      "[CV 1/5] END learning_rate=0.05, n_estimators=100;, score=0.704 total time=   4.2s\n",
      "[CV 2/5] END learning_rate=0.05, n_estimators=100;, score=0.722 total time=   4.1s\n",
      "[CV 3/5] END learning_rate=0.05, n_estimators=100;, score=0.704 total time=   4.2s\n",
      "[CV 4/5] END learning_rate=0.05, n_estimators=100;, score=0.702 total time=   4.2s\n",
      "[CV 5/5] END learning_rate=0.05, n_estimators=100;, score=0.720 total time=   4.4s\n",
      "[CV 1/5] END learning_rate=0.05, n_estimators=150;, score=0.713 total time=   6.3s\n",
      "[CV 2/5] END learning_rate=0.05, n_estimators=150;, score=0.729 total time=   6.3s\n",
      "[CV 3/5] END learning_rate=0.05, n_estimators=150;, score=0.724 total time=   6.3s\n",
      "[CV 4/5] END learning_rate=0.05, n_estimators=150;, score=0.719 total time=   6.3s\n",
      "[CV 5/5] END learning_rate=0.05, n_estimators=150;, score=0.728 total time=   6.3s\n",
      "[CV 1/5] END learning_rate=0.05, n_estimators=200;, score=0.718 total time=   8.8s\n",
      "[CV 2/5] END learning_rate=0.05, n_estimators=200;, score=0.732 total time=   8.8s\n",
      "[CV 3/5] END learning_rate=0.05, n_estimators=200;, score=0.723 total time=   8.6s\n",
      "[CV 4/5] END learning_rate=0.05, n_estimators=200;, score=0.725 total time=   8.5s\n",
      "[CV 5/5] END learning_rate=0.05, n_estimators=200;, score=0.733 total time=   8.6s\n",
      "[CV 1/5] END learning_rate=0.1, n_estimators=10;, score=0.468 total time=   0.4s\n",
      "[CV 2/5] END learning_rate=0.1, n_estimators=10;, score=0.462 total time=   0.4s\n",
      "[CV 3/5] END learning_rate=0.1, n_estimators=10;, score=0.484 total time=   0.4s\n",
      "[CV 4/5] END learning_rate=0.1, n_estimators=10;, score=0.469 total time=   0.4s\n",
      "[CV 5/5] END learning_rate=0.1, n_estimators=10;, score=0.440 total time=   0.4s\n",
      "[CV 1/5] END learning_rate=0.1, n_estimators=50;, score=0.700 total time=   2.0s\n",
      "[CV 2/5] END learning_rate=0.1, n_estimators=50;, score=0.721 total time=   2.1s\n",
      "[CV 3/5] END learning_rate=0.1, n_estimators=50;, score=0.702 total time=   2.1s\n",
      "[CV 4/5] END learning_rate=0.1, n_estimators=50;, score=0.698 total time=   2.1s\n",
      "[CV 5/5] END learning_rate=0.1, n_estimators=50;, score=0.718 total time=   2.2s\n",
      "[CV 1/5] END learning_rate=0.1, n_estimators=100;, score=0.720 total time=   4.3s\n",
      "[CV 2/5] END learning_rate=0.1, n_estimators=100;, score=0.732 total time=   4.4s\n",
      "[CV 3/5] END learning_rate=0.1, n_estimators=100;, score=0.723 total time=   4.4s\n",
      "[CV 4/5] END learning_rate=0.1, n_estimators=100;, score=0.725 total time=   4.3s\n",
      "[CV 5/5] END learning_rate=0.1, n_estimators=100;, score=0.733 total time=   4.2s\n",
      "[CV 1/5] END learning_rate=0.1, n_estimators=150;, score=0.719 total time=   6.4s\n",
      "[CV 2/5] END learning_rate=0.1, n_estimators=150;, score=0.736 total time=   6.5s\n",
      "[CV 3/5] END learning_rate=0.1, n_estimators=150;, score=0.721 total time=   6.3s\n",
      "[CV 4/5] END learning_rate=0.1, n_estimators=150;, score=0.724 total time=   6.5s\n",
      "[CV 5/5] END learning_rate=0.1, n_estimators=150;, score=0.730 total time=   6.3s\n",
      "[CV 1/5] END learning_rate=0.1, n_estimators=200;, score=0.720 total time=   8.5s\n",
      "[CV 2/5] END learning_rate=0.1, n_estimators=200;, score=0.743 total time=   8.5s\n",
      "[CV 3/5] END learning_rate=0.1, n_estimators=200;, score=0.718 total time=   8.5s\n",
      "[CV 4/5] END learning_rate=0.1, n_estimators=200;, score=0.723 total time=   8.5s\n",
      "[CV 5/5] END learning_rate=0.1, n_estimators=200;, score=0.731 total time=   8.0s\n",
      "[CV 1/5] END learning_rate=0.5, n_estimators=10;, score=0.704 total time=   0.3s\n",
      "[CV 2/5] END learning_rate=0.5, n_estimators=10;, score=0.720 total time=   0.4s\n",
      "[CV 3/5] END learning_rate=0.5, n_estimators=10;, score=0.712 total time=   0.4s\n",
      "[CV 4/5] END learning_rate=0.5, n_estimators=10;, score=0.707 total time=   0.4s\n",
      "[CV 5/5] END learning_rate=0.5, n_estimators=10;, score=0.721 total time=   0.4s\n",
      "[CV 1/5] END learning_rate=0.5, n_estimators=50;, score=0.719 total time=   2.0s\n",
      "[CV 2/5] END learning_rate=0.5, n_estimators=50;, score=0.745 total time=   2.1s\n",
      "[CV 3/5] END learning_rate=0.5, n_estimators=50;, score=0.725 total time=   2.2s\n",
      "[CV 4/5] END learning_rate=0.5, n_estimators=50;, score=0.719 total time=   2.1s\n",
      "[CV 5/5] END learning_rate=0.5, n_estimators=50;, score=0.730 total time=   2.0s\n",
      "[CV 1/5] END learning_rate=0.5, n_estimators=100;, score=0.729 total time=   4.6s\n",
      "[CV 2/5] END learning_rate=0.5, n_estimators=100;, score=0.752 total time=   4.4s\n",
      "[CV 3/5] END learning_rate=0.5, n_estimators=100;, score=0.726 total time=   4.1s\n",
      "[CV 4/5] END learning_rate=0.5, n_estimators=100;, score=0.723 total time=   4.1s\n",
      "[CV 5/5] END learning_rate=0.5, n_estimators=100;, score=0.736 total time=   4.3s\n",
      "[CV 1/5] END learning_rate=0.5, n_estimators=150;, score=0.730 total time=   6.4s\n",
      "[CV 2/5] END learning_rate=0.5, n_estimators=150;, score=0.758 total time=   6.4s\n",
      "[CV 3/5] END learning_rate=0.5, n_estimators=150;, score=0.730 total time=   6.3s\n",
      "[CV 4/5] END learning_rate=0.5, n_estimators=150;, score=0.728 total time=   7.2s\n",
      "[CV 5/5] END learning_rate=0.5, n_estimators=150;, score=0.734 total time=   6.4s\n",
      "[CV 1/5] END learning_rate=0.5, n_estimators=200;, score=0.733 total time=   8.4s\n",
      "[CV 2/5] END learning_rate=0.5, n_estimators=200;, score=0.760 total time=   8.3s\n",
      "[CV 3/5] END learning_rate=0.5, n_estimators=200;, score=0.733 total time=   8.2s\n",
      "[CV 4/5] END learning_rate=0.5, n_estimators=200;, score=0.732 total time=   8.3s\n",
      "[CV 5/5] END learning_rate=0.5, n_estimators=200;, score=0.738 total time=   8.4s\n"
     ]
    },
    {
     "name": "stdout",
     "output_type": "stream",
     "text": [
      "[CV 1/5] END learning_rate=1.0, n_estimators=10;, score=0.705 total time=   0.3s\n",
      "[CV 2/5] END learning_rate=1.0, n_estimators=10;, score=0.725 total time=   0.3s\n",
      "[CV 3/5] END learning_rate=1.0, n_estimators=10;, score=0.712 total time=   0.4s\n",
      "[CV 4/5] END learning_rate=1.0, n_estimators=10;, score=0.707 total time=   0.3s\n",
      "[CV 5/5] END learning_rate=1.0, n_estimators=10;, score=0.729 total time=   0.4s\n",
      "[CV 1/5] END learning_rate=1.0, n_estimators=50;, score=0.721 total time=   2.0s\n",
      "[CV 2/5] END learning_rate=1.0, n_estimators=50;, score=0.738 total time=   2.1s\n",
      "[CV 3/5] END learning_rate=1.0, n_estimators=50;, score=0.717 total time=   2.0s\n",
      "[CV 4/5] END learning_rate=1.0, n_estimators=50;, score=0.717 total time=   2.1s\n",
      "[CV 5/5] END learning_rate=1.0, n_estimators=50;, score=0.733 total time=   2.0s\n",
      "[CV 1/5] END learning_rate=1.0, n_estimators=100;, score=0.733 total time=   4.1s\n",
      "[CV 2/5] END learning_rate=1.0, n_estimators=100;, score=0.747 total time=   4.1s\n",
      "[CV 3/5] END learning_rate=1.0, n_estimators=100;, score=0.730 total time=   4.1s\n",
      "[CV 4/5] END learning_rate=1.0, n_estimators=100;, score=0.734 total time=   4.3s\n",
      "[CV 5/5] END learning_rate=1.0, n_estimators=100;, score=0.743 total time=   4.1s\n",
      "[CV 1/5] END learning_rate=1.0, n_estimators=150;, score=0.740 total time=   6.1s\n",
      "[CV 2/5] END learning_rate=1.0, n_estimators=150;, score=0.757 total time=   6.1s\n",
      "[CV 3/5] END learning_rate=1.0, n_estimators=150;, score=0.733 total time=   6.1s\n",
      "[CV 4/5] END learning_rate=1.0, n_estimators=150;, score=0.732 total time=   6.0s\n",
      "[CV 5/5] END learning_rate=1.0, n_estimators=150;, score=0.739 total time=   6.0s\n",
      "[CV 1/5] END learning_rate=1.0, n_estimators=200;, score=0.743 total time=   8.2s\n",
      "[CV 2/5] END learning_rate=1.0, n_estimators=200;, score=0.757 total time=   8.1s\n",
      "[CV 3/5] END learning_rate=1.0, n_estimators=200;, score=0.731 total time=   8.1s\n",
      "[CV 4/5] END learning_rate=1.0, n_estimators=200;, score=0.736 total time=   8.2s\n",
      "[CV 5/5] END learning_rate=1.0, n_estimators=200;, score=0.744 total time=   8.2s\n",
      "[CV 1/5] END learning_rate=2.0, n_estimators=10;, score=0.000 total time=   0.3s\n",
      "[CV 2/5] END learning_rate=2.0, n_estimators=10;, score=0.000 total time=   0.4s\n",
      "[CV 3/5] END learning_rate=2.0, n_estimators=10;, score=0.501 total time=   0.3s\n",
      "[CV 4/5] END learning_rate=2.0, n_estimators=10;, score=0.510 total time=   0.3s\n",
      "[CV 5/5] END learning_rate=2.0, n_estimators=10;, score=0.000 total time=   0.3s\n",
      "[CV 1/5] END learning_rate=2.0, n_estimators=50;, score=0.000 total time=   2.0s\n",
      "[CV 2/5] END learning_rate=2.0, n_estimators=50;, score=0.000 total time=   2.0s\n",
      "[CV 3/5] END learning_rate=2.0, n_estimators=50;, score=0.501 total time=   2.0s\n",
      "[CV 4/5] END learning_rate=2.0, n_estimators=50;, score=0.510 total time=   2.0s\n",
      "[CV 5/5] END learning_rate=2.0, n_estimators=50;, score=0.000 total time=   2.0s\n",
      "[CV 1/5] END learning_rate=2.0, n_estimators=100;, score=0.000 total time=   4.1s\n",
      "[CV 2/5] END learning_rate=2.0, n_estimators=100;, score=0.000 total time=   4.1s\n",
      "[CV 3/5] END learning_rate=2.0, n_estimators=100;, score=0.501 total time=   4.1s\n",
      "[CV 4/5] END learning_rate=2.0, n_estimators=100;, score=0.510 total time=   4.3s\n",
      "[CV 5/5] END learning_rate=2.0, n_estimators=100;, score=0.000 total time=   4.1s\n",
      "[CV 1/5] END learning_rate=2.0, n_estimators=150;, score=0.000 total time=   6.2s\n",
      "[CV 2/5] END learning_rate=2.0, n_estimators=150;, score=0.000 total time=   6.3s\n",
      "[CV 3/5] END learning_rate=2.0, n_estimators=150;, score=0.501 total time=   6.2s\n",
      "[CV 4/5] END learning_rate=2.0, n_estimators=150;, score=0.510 total time=   6.2s\n",
      "[CV 5/5] END learning_rate=2.0, n_estimators=150;, score=0.000 total time=   6.1s\n",
      "[CV 1/5] END learning_rate=2.0, n_estimators=200;, score=0.000 total time=   8.4s\n",
      "[CV 2/5] END learning_rate=2.0, n_estimators=200;, score=0.000 total time=   8.2s\n",
      "[CV 3/5] END learning_rate=2.0, n_estimators=200;, score=0.501 total time=   8.3s\n",
      "[CV 4/5] END learning_rate=2.0, n_estimators=200;, score=0.510 total time=   8.2s\n",
      "[CV 5/5] END learning_rate=2.0, n_estimators=200;, score=0.000 total time=   8.4s\n",
      "The best estimator:  AdaBoostClassifier(n_estimators=200, random_state=42)\n",
      "{'mean_fit_time': array([0.43009925, 2.03345809, 4.0081522 , 6.01218739, 8.0074194 ,\n",
      "       0.42610359, 2.02993097, 4.04693847, 5.98536196, 8.19599175,\n",
      "       0.43770714, 2.05907431, 4.13663764, 6.10212483, 7.96413918,\n",
      "       0.42330422, 2.04834814, 4.14372416, 6.27690668, 7.93181653,\n",
      "       0.41329889, 2.00845823, 3.96444349, 5.80134869, 7.77178459,\n",
      "       0.41349888, 1.96694951, 3.9797502 , 5.91371851, 7.89439449]), 'std_fit_time': array([0.00888154, 0.00502454, 0.02073867, 0.03976607, 0.03939914,\n",
      "       0.00505969, 0.02236277, 0.06641992, 0.01973994, 0.11896776,\n",
      "       0.00854989, 0.04150821, 0.04437706, 0.08225963, 0.16388065,\n",
      "       0.00992756, 0.06834229, 0.14961042, 0.33114557, 0.05342759,\n",
      "       0.00371126, 0.01723325, 0.09999983, 0.01883753, 0.03100191,\n",
      "       0.00360735, 0.01431067, 0.07988934, 0.04878878, 0.08732313]), 'mean_score_time': array([0.03560853, 0.14303451, 0.2774632 , 0.4081562 , 0.54831867,\n",
      "       0.03402977, 0.14503312, 0.27186637, 0.40849824, 0.55655098,\n",
      "       0.0350019 , 0.14342728, 0.29206924, 0.42490668, 0.53491578,\n",
      "       0.03482804, 0.13642364, 0.26449976, 0.37488718, 0.49351358,\n",
      "       0.03400426, 0.13182955, 0.26165776, 0.36349406, 0.48751402,\n",
      "       0.03265233, 0.1309978 , 0.26248317, 0.391502  , 0.50411582]), 'std_score_time': array([1.01459840e-03, 6.03761197e-03, 5.53399587e-03, 8.56949014e-03,\n",
      "       1.54767529e-02, 3.57384281e-05, 3.99763789e-03, 6.24057913e-03,\n",
      "       1.32502262e-02, 3.17981858e-02, 8.90856278e-04, 3.26698722e-03,\n",
      "       2.74184356e-02, 1.93784522e-02, 2.38147139e-02, 1.80894488e-03,\n",
      "       1.28530584e-02, 2.73993759e-02, 2.04687847e-02, 1.65265407e-02,\n",
      "       6.29859045e-04, 4.79178288e-03, 6.36953779e-03, 8.43138858e-03,\n",
      "       5.04030959e-03, 4.76917150e-04, 3.63178343e-03, 8.51485018e-03,\n",
      "       2.38077725e-02, 9.88624064e-03]), 'param_learning_rate': masked_array(data=[0.01, 0.01, 0.01, 0.01, 0.01, 0.05, 0.05, 0.05, 0.05,\n",
      "                   0.05, 0.1, 0.1, 0.1, 0.1, 0.1, 0.5, 0.5, 0.5, 0.5, 0.5,\n",
      "                   1.0, 1.0, 1.0, 1.0, 1.0, 2.0, 2.0, 2.0, 2.0, 2.0],\n",
      "             mask=[False, False, False, False, False, False, False, False,\n",
      "                   False, False, False, False, False, False, False, False,\n",
      "                   False, False, False, False, False, False, False, False,\n",
      "                   False, False, False, False, False, False],\n",
      "       fill_value='?',\n",
      "            dtype=object), 'param_n_estimators': masked_array(data=[10, 50, 100, 150, 200, 10, 50, 100, 150, 200, 10, 50,\n",
      "                   100, 150, 200, 10, 50, 100, 150, 200, 10, 50, 100, 150,\n",
      "                   200, 10, 50, 100, 150, 200],\n",
      "             mask=[False, False, False, False, False, False, False, False,\n",
      "                   False, False, False, False, False, False, False, False,\n",
      "                   False, False, False, False, False, False, False, False,\n",
      "                   False, False, False, False, False, False],\n",
      "       fill_value='?',\n",
      "            dtype=object), 'params': [{'learning_rate': 0.01, 'n_estimators': 10}, {'learning_rate': 0.01, 'n_estimators': 50}, {'learning_rate': 0.01, 'n_estimators': 100}, {'learning_rate': 0.01, 'n_estimators': 150}, {'learning_rate': 0.01, 'n_estimators': 200}, {'learning_rate': 0.05, 'n_estimators': 10}, {'learning_rate': 0.05, 'n_estimators': 50}, {'learning_rate': 0.05, 'n_estimators': 100}, {'learning_rate': 0.05, 'n_estimators': 150}, {'learning_rate': 0.05, 'n_estimators': 200}, {'learning_rate': 0.1, 'n_estimators': 10}, {'learning_rate': 0.1, 'n_estimators': 50}, {'learning_rate': 0.1, 'n_estimators': 100}, {'learning_rate': 0.1, 'n_estimators': 150}, {'learning_rate': 0.1, 'n_estimators': 200}, {'learning_rate': 0.5, 'n_estimators': 10}, {'learning_rate': 0.5, 'n_estimators': 50}, {'learning_rate': 0.5, 'n_estimators': 100}, {'learning_rate': 0.5, 'n_estimators': 150}, {'learning_rate': 0.5, 'n_estimators': 200}, {'learning_rate': 1.0, 'n_estimators': 10}, {'learning_rate': 1.0, 'n_estimators': 50}, {'learning_rate': 1.0, 'n_estimators': 100}, {'learning_rate': 1.0, 'n_estimators': 150}, {'learning_rate': 1.0, 'n_estimators': 200}, {'learning_rate': 2.0, 'n_estimators': 10}, {'learning_rate': 2.0, 'n_estimators': 50}, {'learning_rate': 2.0, 'n_estimators': 100}, {'learning_rate': 2.0, 'n_estimators': 150}, {'learning_rate': 2.0, 'n_estimators': 200}], 'split0_test_score': array([0.        , 0.46815835, 0.46815835, 0.46599931, 0.67642729,\n",
      "       0.46815835, 0.68891023, 0.70430364, 0.71315498, 0.71818595,\n",
      "       0.46815835, 0.69998436, 0.72011486, 0.71925411, 0.72007526,\n",
      "       0.70439677, 0.71938986, 0.72878354, 0.72968603, 0.73328015,\n",
      "       0.70471712, 0.7209056 , 0.73270731, 0.74033364, 0.74265752,\n",
      "       0.        , 0.        , 0.        , 0.        , 0.        ]), 'split1_test_score': array([0.        , 0.46183339, 0.46183339, 0.46183339, 0.69057212,\n",
      "       0.46183339, 0.70770192, 0.72177227, 0.72879791, 0.73158128,\n",
      "       0.46183339, 0.72085646, 0.73170732, 0.73647368, 0.74265853,\n",
      "       0.72021955, 0.74489658, 0.75217101, 0.75828123, 0.76016849,\n",
      "       0.72536303, 0.7384214 , 0.74717862, 0.75658317, 0.75691876,\n",
      "       0.        , 0.        , 0.        , 0.        , 0.        ]), 'split2_test_score': array([0.        , 0.33238173, 0.48403533, 0.48403533, 0.67580965,\n",
      "       0.48403533, 0.69131833, 0.7038681 , 0.72413259, 0.72317146,\n",
      "       0.48403533, 0.70243363, 0.72300965, 0.72051133, 0.71832579,\n",
      "       0.7123412 , 0.72488901, 0.72610785, 0.72966827, 0.73282748,\n",
      "       0.7118451 , 0.71705426, 0.72959711, 0.73317925, 0.73141026,\n",
      "       0.50058548, 0.50058548, 0.50058548, 0.50058548, 0.50058548]), 'split3_test_score': array([0.        , 0.46853389, 0.46853389, 0.46853389, 0.46853389,\n",
      "       0.46853389, 0.68291506, 0.70194724, 0.71943574, 0.72510498,\n",
      "       0.46853389, 0.69796954, 0.72549313, 0.72376009, 0.72264523,\n",
      "       0.70707831, 0.71930773, 0.72315165, 0.72799249, 0.73196986,\n",
      "       0.70711417, 0.71718096, 0.73439168, 0.73221757, 0.73609667,\n",
      "       0.51042774, 0.51042774, 0.51042774, 0.51042774, 0.51042774]), 'split4_test_score': array([0.        , 0.43965824, 0.43965824, 0.43965824, 0.43850267,\n",
      "       0.43965824, 0.69913457, 0.72024519, 0.7284986 , 0.73296789,\n",
      "       0.43965824, 0.71801787, 0.73283279, 0.72993248, 0.73109368,\n",
      "       0.72085646, 0.73026047, 0.73574576, 0.7343441 , 0.73779123,\n",
      "       0.72912031, 0.73339545, 0.74343061, 0.73874692, 0.74379628,\n",
      "       0.        , 0.        , 0.        , 0.        , 0.        ]), 'mean_test_score': array([0.        , 0.43411312, 0.46444384, 0.46401203, 0.58996912,\n",
      "       0.46444384, 0.69399602, 0.71042729, 0.72280396, 0.72620231,\n",
      "       0.46444384, 0.70785237, 0.72663155, 0.72598634, 0.7269597 ,\n",
      "       0.71297846, 0.72774873, 0.73319196, 0.73599442, 0.73920744,\n",
      "       0.71563195, 0.72539153, 0.73746107, 0.74021211, 0.7421759 ,\n",
      "       0.20220264, 0.20220264, 0.20220264, 0.20220264, 0.20220264]), 'std_test_score': array([0.        , 0.05194671, 0.01439092, 0.01430512, 0.11194032,\n",
      "       0.01439092, 0.00860325, 0.00868946, 0.0059088 , 0.0054655 ,\n",
      "       0.01439092, 0.00960606, 0.00492139, 0.00641578, 0.00898997,\n",
      "       0.0066837 , 0.00948321, 0.01036487, 0.0113426 , 0.01067324,\n",
      "       0.00982503, 0.0088418 , 0.0066922 , 0.00875839, 0.00863789,\n",
      "       0.24766621, 0.24766621, 0.24766621, 0.24766621, 0.24766621]), 'rank_test_score': array([30, 24, 20, 23, 19, 20, 18, 16, 13, 10, 20, 17,  9, 11,  8, 15,  7,\n",
      "        6,  5,  3, 14, 12,  4,  2,  1, 25, 25, 25, 25, 25])}\n",
      "Unoptimized model\n",
      "------\n",
      "Accuracy score on testing data: 0.8576\n",
      "F-score on testing data: 0.7246\n",
      "\n",
      "Optimized Model\n",
      "------\n",
      "Final accuracy score on the testing data: 0.8651\n",
      "Final F-score on the testing data: 0.7396\n"
     ]
    }
   ],
   "source": [
    "# TODO: Import 'GridSearchCV', 'make_scorer', and any other necessary libraries\n",
    "from sklearn.model_selection import GridSearchCV\n",
    "from sklearn.metrics import make_scorer\n",
    "\n",
    "# TODO: Initialize the classifier\n",
    "clf = AdaBoostClassifier(random_state=42)\n",
    "\n",
    "# TODO: Create the parameters list you wish to tune, using a dictionary if needed.\n",
    "# HINT: parameters = {'parameter_1': [value1, value2], 'parameter_2': [value1, value2]}\n",
    "parameters = {'n_estimators': [10, 50, 100, 150, 200], 'learning_rate': [0.01, 0.05, 0.1, 0.5, 1.0, 2.0]}\n",
    "\n",
    "# TODO: Make an fbeta_score scoring object using make_scorer()\n",
    "scorer = make_scorer(fbeta_score, beta=0.5)\n",
    "\n",
    "# TODO: Perform grid search on the classifier using 'scorer' as the scoring method using GridSearchCV()\n",
    "grid_obj = GridSearchCV(clf, parameters, scoring=scorer, verbose=3)\n",
    "\n",
    "# TODO: Fit the grid search object to the training data and find the optimal parameters using fit()\n",
    "grid_fit = grid_obj.fit(X_train, y_train)\n",
    "\n",
    "# Get the estimator\n",
    "best_clf = grid_fit.best_estimator_\n",
    "\n",
    "# Make predictions using the unoptimized and model\n",
    "predictions = (clf.fit(X_train, y_train)).predict(X_test)\n",
    "best_predictions = best_clf.predict(X_test) \n",
    "\n",
    "print(\"The best estimator: \", best_clf)\n",
    "print(grid_fit.cv_results_)\n",
    "\n",
    "# Report the before-and-afterscores\n",
    "print(\"Unoptimized model\\n------\")\n",
    "print(\"Accuracy score on testing data: {:.4f}\".format(accuracy_score(y_test, predictions)))\n",
    "print(\"F-score on testing data: {:.4f}\".format(fbeta_score(y_test, predictions, beta = 0.5)))\n",
    "print(\"\\nOptimized Model\\n------\")\n",
    "print(\"Final accuracy score on the testing data: {:.4f}\".format(accuracy_score(y_test, best_predictions)))\n",
    "print(\"Final F-score on the testing data: {:.4f}\".format(fbeta_score(y_test, best_predictions, beta = 0.5)))"
   ]
  },
  {
   "cell_type": "markdown",
   "metadata": {},
   "source": [
    "### Question 5 - Final Model Evaluation\n",
    "\n",
    "* What is your optimized model's accuracy and F-score on the testing data? \n",
    "* Are these scores better or worse than the unoptimized model? \n",
    "* How do the results from your optimized model compare to the naive predictor benchmarks you found earlier in **Question 1**?_  \n",
    "\n",
    "**Note:** Fill in the table below with your results, and then provide discussion in the **Answer** box."
   ]
  },
  {
   "cell_type": "markdown",
   "metadata": {},
   "source": [
    "#### Results:\n",
    "\n",
    "|     Metric     | Unoptimized Model | Optimized Model |\n",
    "| :------------: | :---------------: | :-------------: | \n",
    "| Accuracy Score |      0.8576       |     0.8651      |\n",
    "| F-score        |      0.7246       |     0.7396      |\n"
   ]
  },
  {
   "cell_type": "markdown",
   "metadata": {},
   "source": [
    "#### Answer: \n",
    "* The optimized model's accuracy is 0.8651 and F-score is 0.7396. \n",
    "* These scores are slightly better than the unoptimized model.\n",
    "* Since Naive Predictor's results are accuracy score: 0.2478 and F-Score: 0.6223, the optimized model using AdaBoost results are much better. "
   ]
  },
  {
   "cell_type": "markdown",
   "metadata": {},
   "source": [
    "----\n",
    "## Feature Importance\n",
    "\n",
    "An important task when performing supervised learning on a dataset like the census data we study here is determining which features provide the most predictive power. By focusing on the relationship between only a few crucial features and the target label we simplify our understanding of the phenomenon, which is most always a useful thing to do. In the case of this project, that means we wish to identify a small number of features that most strongly predict whether an individual makes at most or more than \\$50,000.\n",
    "\n",
    "Choose a scikit-learn classifier (e.g., adaboost, random forests) that has a `feature_importance_` attribute, which is a function that ranks the importance of features according to the chosen classifier.  In the next python cell fit this classifier to training set and use this attribute to determine the top 5 most important features for the census dataset."
   ]
  },
  {
   "cell_type": "markdown",
   "metadata": {},
   "source": [
    "### Question 6 - Feature Relevance Observation\n",
    "When **Exploring the Data**, it was shown there are thirteen available features for each individual on record in the census data. Of these thirteen records, which five features do you believe to be most important for prediction, and in what order would you rank them and why?"
   ]
  },
  {
   "cell_type": "markdown",
   "metadata": {},
   "source": [
    "#### Answer:\n",
    "\n",
    "Of the thirteen avaiable features, I believe that the following four feature are important: capital-gain, capital-loss, hours-per-week, age. I think that people with high income tend to invest thier money and have capital gain/loss in their accounts. On the other hand, for people who have very low income, they might be struggling to have an extra money to invest and they don't have any investment account. I think hours-per-week is also the important feature because the data probably include part-time jobs which tend not to generate income more than full-time job. Age probably matters. For those who are older tend to have more job experiences and that lead to earn more income. I struggle to think one more feature. Maybe native-country is also one of the important features because of difference in currency value.  \n",
    "\n",
    "In summary, this is my prediction in order: **capital-gain**, **capital-loss**, **hours-per-week**, **age**, **native-country**."
   ]
  },
  {
   "cell_type": "markdown",
   "metadata": {},
   "source": [
    "### Implementation - Extracting Feature Importance\n",
    "Choose a `scikit-learn` supervised learning algorithm that has a `feature_importance_` attribute availble for it. This attribute is a function that ranks the importance of each feature when making predictions based on the chosen algorithm.\n",
    "\n",
    "In the code cell below, you will need to implement the following:\n",
    " - Import a supervised learning model from sklearn if it is different from the three used earlier.\n",
    " - Train the supervised model on the entire training set.\n",
    " - Extract the feature importances using `'.feature_importances_'`."
   ]
  },
  {
   "cell_type": "code",
   "execution_count": 15,
   "metadata": {},
   "outputs": [
    {
     "data": {
      "image/png": "[encoded data removed]",
      "text/plain": [
       "<Figure size 648x360 with 1 Axes>"
      ]
     },
     "metadata": {
      "needs_background": "light"
     },
     "output_type": "display_data"
    }
   ],
   "source": [
    "# TODO: Import a supervised learning model that has 'feature_importances_'\n",
    "\n",
    "\n",
    "# TODO: Train the supervised model on the training set using .fit(X_train, y_train)\n",
    "clf = AdaBoostClassifier(n_estimators=200, random_state=42)\n",
    "model = clf.fit(X_train, y_train)\n",
    "\n",
    "# TODO: Extract the feature importances using .feature_importances_ \n",
    "importances = clf.feature_importances_\n",
    "\n",
    "# Plot\n",
    "vs.feature_plot(importances, X_train, y_train)"
   ]
  },
  {
   "cell_type": "markdown",
   "metadata": {},
   "source": [
    "### Question 7 - Extracting Feature Importance\n",
    "\n",
    "Observe the visualization created above which displays the five most relevant features for predicting if an individual makes at most or above \\$50,000.  \n",
    "* How do these five features compare to the five features you discussed in **Question 6**?\n",
    "* If you were close to the same answer, how does this visualization confirm your thoughts? \n",
    "* If you were not close, why do you think these features are more relevant?"
   ]
  },
  {
   "cell_type": "markdown",
   "metadata": {},
   "source": [
    "#### Answer:\n",
    "\n",
    "According to the graph above, the five most relevant features are: Capital-gain, capital-loss, age, education-num, hours-per-week. I predicted four out of five features correctly.\n",
    "In Question 6, I answered \"native-country\" instead of \"education-num\". The reason I was wrong about was that I misunderstood what \"native-country\" column data are. I somehow thought \"native-country\" is the country people are currently working, instead of where they were originally from. The reason I initially picked \"native-country\" was based on the assumption that the currency values are different in different countries. And since I misunderstood the data column and my assumption was irrelevant, it is clear why that feature was not important."
   ]
  },
  {
   "cell_type": "markdown",
   "metadata": {},
   "source": [
    "### Feature Selection\n",
    "How does a model perform if we only use a subset of all the available features in the data? With less features required to train, the expectation is that training and prediction time is much lower — at the cost of performance metrics. From the visualization above, we see that the top five most important features contribute more than half of the importance of **all** features present in the data. This hints that we can attempt to *reduce the feature space* and simplify the information required for the model to learn. The code cell below will use the same optimized model you found earlier, and train it on the same training set *with only the top five important features*. "
   ]
  },
  {
   "cell_type": "code",
   "execution_count": null,
   "metadata": {
    "collapsed": true
   },
   "outputs": [],
   "source": [
    "# Import functionality for cloning a model\n",
    "from sklearn.base import clone\n",
    "\n",
    "# Reduce the feature space\n",
    "X_train_reduced = X_train[X_train.columns.values[(np.argsort(importances)[::-1])[:5]]]\n",
    "X_test_reduced = X_test[X_test.columns.values[(np.argsort(importances)[::-1])[:5]]]\n",
    "\n",
    "# Train on the \"best\" model found from grid search earlier\n",
    "clf = (clone(best_clf)).fit(X_train_reduced, y_train)\n",
    "\n",
    "# Make new predictions\n",
    "reduced_predictions = clf.predict(X_test_reduced)\n",
    "\n",
    "# Report scores from the final model using both versions of data\n",
    "print(\"Final Model trained on full data\\n------\")\n",
    "print(\"Accuracy on testing data: {:.4f}\".format(accuracy_score(y_test, best_predictions)))\n",
    "print(\"F-score on testing data: {:.4f}\".format(fbeta_score(y_test, best_predictions, beta = 0.5)))\n",
    "print(\"\\nFinal Model trained on reduced data\\n------\")\n",
    "print(\"Accuracy on testing data: {:.4f}\".format(accuracy_score(y_test, reduced_predictions)))\n",
    "print(\"F-score on testing data: {:.4f}\".format(fbeta_score(y_test, reduced_predictions, beta = 0.5)))"
   ]
  },
  {
   "cell_type": "markdown",
   "metadata": {},
   "source": [
    "### Question 8 - Effects of Feature Selection\n",
    "\n",
    "* How does the final model's F-score and accuracy score on the reduced data using only five features compare to those same scores when all features are used?\n",
    "* If training time was a factor, would you consider using the reduced data as your training set?"
   ]
  },
  {
   "cell_type": "markdown",
   "metadata": {},
   "source": [
    "**Answer:**"
   ]
  },
  {
   "cell_type": "markdown",
   "metadata": {},
   "source": [
    "> **Note**: Once you have completed all of the code implementations and successfully answered each question above, you may finalize your work by exporting the iPython Notebook as an HTML document. You can do this by using the menu above and navigating to  \n",
    "**File -> Download as -> HTML (.html)**. Include the finished document along with this notebook as your submission."
   ]
  }
 ],
 "metadata": {
  "kernelspec": {
   "display_name": "Python 3 (ipykernel)",
   "language": "python",
   "name": "python3"
  },
  "language_info": {
   "codemirror_mode": {
    "name": "ipython",
    "version": 3
   },
   "file_extension": ".py",
   "mimetype": "text/x-python",
   "name": "python",
   "nbconvert_exporter": "python",
   "pygments_lexer": "ipython3",
   "version": "3.9.7"
  }
 },
 "nbformat": 4,
 "nbformat_minor": 1
}
